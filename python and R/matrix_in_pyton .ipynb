{
 "cells": [
  {
   "cell_type": "code",
   "execution_count": 1,
   "metadata": {},
   "outputs": [
    {
     "name": "stdout",
     "output_type": "stream",
     "text": [
      "(5,)\n",
      "(1, 5)\n"
     ]
    }
   ],
   "source": [
    "import numpy as np\n",
    "#make matrixs \n",
    "mat= np.array([[1,2,3],\n",
    "              [6,4,5],\n",
    "              [6,7,10]]) #this is a matrix 3x3\n",
    "mat.shape\n",
    "mat2=mat*2\n",
    "mat3=mat2@mat2\n",
    "mat4=np.array([1,2,34,5,4])#vetocr\n",
    "mat5=np.array([[1,2,34,5,4]])#maric \n",
    "print(mat4.shape)\n",
    "print(mat5.shape) #what is difresn betwine vectoe and matrix 1x3 or 3x1"
   ]
  },
  {
   "cell_type": "code",
   "execution_count": 2,
   "metadata": {},
   "outputs": [
    {
     "name": "stdout",
     "output_type": "stream",
     "text": [
      "[[5 4]\n",
      " [7 9]]\n"
     ]
    }
   ],
   "source": [
    "matb= np.array([[5,4],[7,9]])\n",
    "print(matb)"
   ]
  }
 ],
 "metadata": {
  "kernelspec": {
   "display_name": "Python 3",
   "language": "python",
   "name": "python3"
  },
  "language_info": {
   "codemirror_mode": {
    "name": "ipython",
    "version": 3
   },
   "file_extension": ".py",
   "mimetype": "text/x-python",
   "name": "python",
   "nbconvert_exporter": "python",
   "pygments_lexer": "ipython3",
   "version": "3.11.7"
  }
 },
 "nbformat": 4,
 "nbformat_minor": 2
}
