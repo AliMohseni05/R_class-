{
 "cells": [
  {
   "cell_type": "markdown",
   "metadata": {},
   "source": [
    "this is a jupyter notebooks basic python\n",
    "there is some codes and textes in same time."
   ]
  },
  {
   "cell_type": "code",
   "execution_count": 75,
   "metadata": {},
   "outputs": [
    {
     "name": "stdout",
     "output_type": "stream",
     "text": [
      "#........................................\n",
      "#\twelcome \n",
      "#\tbasic of python \n",
      "#\t!!!data type!!! \n",
      "#........................................\n",
      "a: <class 'str'>\n",
      "b: <class 'int'>\n",
      "c: <class 'float'>\n",
      "f: <class 'bool'>\n",
      "x: <class 'int'>\n",
      "z: <class 'float'>\n",
      "x2:Orange, y2:Banana, z2:Cherry\n"
     ]
    }
   ],
   "source": [
    "print(\"#........................................\")\n",
    "print(\"#\\twelcome\",\"\\n#\\tbasic of python\",\"\\n#\\t!!!data type!!! \")\n",
    "print(\"#........................................\")\n",
    "#........................................\n",
    "#data type \n",
    "a=\"str\" #str\n",
    "b=2     #int\n",
    "c=2.4   #float\n",
    "f=True  #bool\n",
    "#we dont have complex number here i will expling \n",
    "#........................................\n",
    "#change Variable \n",
    "x=int(1)\n",
    "z = float(3)\n",
    "#Assign Multiple Values \n",
    "x2, y2, z2 = \"Orange\", \"Banana\", \"Cherry\"\n",
    "print(\"a:\",type(a))\n",
    "print(\"b:\",type(b))\n",
    "print(\"c:\",type(c))\n",
    "print(\"f:\",type(f))\n",
    "print(\"x:\",type(x))\n",
    "print(\"z:\",type(z))\n",
    "print(f\"x2:{x2}, y2:{y2}, z2:{z2}\")\n"
   ]
  },
  {
   "cell_type": "code",
   "execution_count": 45,
   "metadata": {},
   "outputs": [
    {
     "name": "stdout",
     "output_type": "stream",
     "text": [
      "\n",
      "      #........................................\n",
      "      # python Operators +-*/%//**            \n",
      "      #........................................\n",
      "    \n",
      "a2: 4 ,ab: 6 ,apd:64 ,dda:3.0 \n",
      "sum of all: 16 Modulus b division d:0 \n"
     ]
    }
   ],
   "source": [
    "print(\"\"\"\n",
    "      #........................................\n",
    "      # python Operators +-*/%//**            \n",
    "      #........................................\n",
    "    \"\"\")\n",
    "#........................................\n",
    "a,b,c,d=2,3,5,6\n",
    "a2,ab,apd,dda=a*2,a*b,a**d,d/a\n",
    "sum_all=a+b+c+d\n",
    "bddm=d%b #Modulus \n",
    "print(f\"a2: {a2} ,ab: {ab} ,apd:{apd} ,dda:{dda} \\nsum of all: {sum_all} Modulus b division d:{bddm} \")"
   ]
  },
  {
   "cell_type": "markdown",
   "metadata": {},
   "source": [
    "# ---------------\n",
    "# Arithmetic Operators\n",
    "# ---------------   \n",
    "Arithmetic Operators\n",
    "Operator\tName\tExample\t\n",
    "+\tAddition\tx + y\t\n",
    "-\tSubtraction\tx - y\t\n",
    "*\tMultiplication\tx * y\t\n",
    "/\tDivision\tx / y\t\n",
    "%\tModulus\tx % y\t\n",
    "**\tExponentiation\tx ** y\t\n",
    "//\tFloor division\tx // y"
   ]
  },
  {
   "cell_type": "code",
   "execution_count": 46,
   "metadata": {},
   "outputs": [
    {
     "name": "stdout",
     "output_type": "stream",
     "text": [
      "is it a qual b?  False\n",
      "is a Not equal b?  True\n",
      "is a Greater than b?  False\n",
      "is g Less than or equal to d?  True\n"
     ]
    }
   ],
   "source": [
    "# ---------------\n",
    "# Comparison Operators\n",
    "# ---------------\n",
    "a,b,c,d=2,3,5,6\n",
    "g=6\n",
    "print(\"is it a qual b? \",a==b)\n",
    "print(\"is a Not equal b? \",a!=b)\n",
    "print(\"is a Greater than b? \",a>b)\n",
    "print(\"is g Less than or equal to d? \",g<=d)"
   ]
  },
  {
   "cell_type": "markdown",
   "metadata": {},
   "source": [
    "\n",
    "# ---------------\n",
    "# Comparison Operators\n",
    "# ---------------\n",
    "Operator\tName\tExample\t\n",
    "==\tEqual\tx == y\t\n",
    "!=\tNot equal\tx != y\t\n",
    ">\tGreater than\tx > y\t\n",
    "<\tLess than\tx < y\t\n",
    ">=\tGreater than or equal to\tx >= y\t\n",
    "<=\tLess than or equal to\tx <= y"
   ]
  },
  {
   "cell_type": "code",
   "execution_count": 1,
   "metadata": {},
   "outputs": [
    {
     "name": "stdout",
     "output_type": "stream",
     "text": [
      "a is : True\n",
      "d is : False\n",
      "........and.........\n",
      "a and b : True\n",
      "a and d : False\n",
      "c and d : False\n",
      "........or.........\n",
      "a or d : True\n",
      "b or d : True\n",
      "c or d : False\n",
      "........not........\n",
      "a in not : False\n",
      "d in not : True\n"
     ]
    }
   ],
   "source": [
    "# ---------------\n",
    "# Logical Operators\n",
    "# ---------------\n",
    "a,b=True,True\n",
    "c,d=False,False\n",
    "print(\"a is :\",a) # is true \n",
    "print(\"d is :\",d) # is false\n",
    "\n",
    "print(\"........and.........\") #both to pass\n",
    "print(\"a and b :\",a and b)\n",
    "print(\"a and d :\",a and d)\n",
    "print(\"c and d :\",c and d)\n",
    "\n",
    "print(\"........or.........\") # on to pass\n",
    "print(\"a or d :\",a or d)\n",
    "print(\"b or d :\",b or d)\n",
    "print(\"c or d :\",c or d)\n",
    "\n",
    "print(\"........not........\") # not \n",
    "print(\"a in not :\",not a)\n",
    "print(\"d in not :\",not d)"
   ]
  },
  {
   "cell_type": "markdown",
   "metadata": {},
   "source": [
    "# ---------------\n",
    "# Logical Operators\n",
    "# ---------------\n",
    "Operator\tDescription\tExample\n",
    "and \tReturns True if both statements are true\tx < 5 and  x < 10\t\n",
    "or\tReturns True if one of the statements is true\tx < 5 or x < 4\t\n",
    "not\tReverse the result, returns False if the result is true\tnot(x < 5 and x < 10)\n",
    "\n",
    "Operator\tDescription\tExample\t\n",
    "in \tReturns True if a sequence with the specified value is present in the object\tx in y\t\n",
    "not in\tReturns True if a sequence with the specified value is not present in the object\tx not in y\n"
   ]
  },
  {
   "cell_type": "markdown",
   "metadata": {},
   "source": [
    "# ---------------\n",
    "# Bitwise Operators\n",
    "# ---------------\n",
    "Operator\tName\tDescription\tExample\tTry it\n",
    "& \tAND\tSets each bit to 1 if both bits are 1\tx & y\t\n",
    "|\tOR\tSets each bit to 1 if one of two bits is 1\tx | y\t\n",
    "^\tXOR\tSets each bit to 1 if only one of two bits is 1\tx ^ y\t\n",
    "~\tNOT\tInverts all the bits\t~x\t\n",
    "<<\tZero fill left shift\tShift left by pushing zeros in from the right and let the leftmost bits fall off\tx << 2\t\n",
    ">>\tSigned right shift\tShift right by pushing copies of the leftmost bit in from the left, and let the rightmost bits fall off\tx >> 2"
   ]
  },
  {
   "cell_type": "code",
   "execution_count": 22,
   "metadata": {},
   "outputs": [
    {
     "name": "stdout",
     "output_type": "stream",
     "text": [
      "dict:\n",
      " {'Name': 'Geeks', 1: [1, 2, 3, 4]} \n",
      "....................................\n",
      "Set:\n",
      " {1, 2, 4, 6, 'Geeks', 'For'} \n",
      "....................................\n",
      "tuple:\n",
      " ('Geeks', 'For') \n",
      "....................................\n",
      "list:\n",
      " [1, 2, ['o', 5.0], 'a', 4.3] \n",
      "....................................\n"
     ]
    }
   ],
   "source": [
    "# ---------------\n",
    "# data structures\n",
    "# ---------------\n",
    "dict = {'Name': 'Geeks', 1: [1, 2, 3, 4]}\n",
    "Set = set([1, 2, 'Geeks', 4, 'For', 6, 'Geeks'])\n",
    "tuple = ('Geeks', 'For')\n",
    "list=[1,2,[\"o\",5.0],\"a\",4.3]\n",
    "print(\"dict:\\n\",dict,\"\\n....................................\")\n",
    "print(\"Set:\\n\",Set,\"\\n....................................\")\n",
    "print(\"tuple:\\n\",tuple,\"\\n....................................\")\n",
    "print(\"list:\\n\",list,\"\\n....................................\")"
   ]
  },
  {
   "cell_type": "code",
   "execution_count": 21,
   "metadata": {},
   "outputs": [
    {
     "name": "stdout",
     "output_type": "stream",
     "text": [
      "...........Dictionary...........\n",
      "Creating Dictionary:  {'Name': 'Geeks', 1: [1, 2, 3, 4]}\n",
      "Accessing a element using key:\n",
      "Geeks\n",
      "Accessing a element using get:\n",
      "[1, 2, 3, 4]\n",
      "myDict:\n",
      "{1: 1, 2: 4, 3: 9, 4: 16, 5: 25}\n",
      "\n",
      "...............list...............\n",
      "[1, 2, ['o', 'A'], 'a', 4.3]\n",
      "1\n",
      "['o', 'A']\n",
      "4.3\n",
      "[1, 2]\n"
     ]
    }
   ],
   "source": [
    "# ---------------\n",
    "# data structures\n",
    "# ---------------\n",
    "print(\"...........Dictionary...........\")\n",
    "Dict = {'Name': 'Geeks', 1: [1, 2, 3, 4]}\n",
    "print(\"Creating Dictionary: \",Dict)\n",
    "print(\"Accessing a element using key:\") \n",
    "print(Dict['Name']) \n",
    "print(\"Accessing a element using get:\") \n",
    "print(Dict.get(1)) \n",
    "myDict = {x: x**2 for x in [1,2,3,4,5]}\n",
    "print(\"myDict:\")\n",
    "print(myDict)\n",
    "#........................................\n",
    "print(\"\\n...............list...............\")\n",
    "#........................................\n",
    "a=\"A\"\n",
    "list=[1,2,[\"o\",a],\"a\",4.3]\n",
    "print(list)\n",
    "print(list[0])\n",
    "print(list[2])\n",
    "print(list[-1])\n",
    "print(list[:-3])\n",
    "\n"
   ]
  },
  {
   "cell_type": "code",
   "execution_count": 3,
   "metadata": {},
   "outputs": [
    {
     "name": "stdout",
     "output_type": "stream",
     "text": [
      "1\n",
      "2\n",
      "2\n",
      "3\n",
      "4\n",
      "4\n",
      "5\n",
      "6\n",
      "f\n",
      "f\n",
      "k\n",
      "d\n",
      "k\n",
      "1\n",
      "2\n",
      "3\n",
      "3 is divisible by 3\n",
      "4\n",
      "5\n",
      "5 is divisible by 5\n",
      "6\n",
      "6 is divisible by 3\n",
      "7\n",
      "8\n",
      "9\n",
      "9 is divisible by 3\n",
      "10\n",
      "10 is divisible by 5\n",
      "11\n",
      "12\n",
      "12 is divisible by 3\n",
      "13\n",
      "14\n",
      "15\n",
      "15 is divisible by 3 and 5\n",
      "16\n",
      "17\n",
      "18\n",
      "18 is divisible by 3\n",
      "19\n",
      "20\n",
      "20 is divisible by 5\n",
      "21\n",
      "21 is divisible by 3\n",
      "22\n",
      "23\n",
      "24\n",
      "24 is divisible by 3\n",
      "25\n",
      "25 is divisible by 5\n",
      "26\n",
      "27\n",
      "27 is divisible by 3\n",
      "28\n",
      "29\n",
      "30\n",
      "30 is divisible by 3 and 5\n",
      "31\n",
      "32\n",
      "33\n",
      "33 is divisible by 3\n",
      "34\n",
      "35\n",
      "35 is divisible by 5\n",
      "36\n",
      "36 is divisible by 3\n",
      "37\n",
      "38\n",
      "39\n",
      "39 is divisible by 3\n",
      "40\n",
      "40 is divisible by 5\n",
      "41\n",
      "42\n",
      "42 is divisible by 3\n",
      "43\n",
      "44\n",
      "45\n",
      "45 is divisible by 3 and 5\n",
      "46\n",
      "47\n",
      "48\n",
      "48 is divisible by 3\n",
      "49\n"
     ]
    }
   ],
   "source": [
    "# ---------------\n",
    "# If...Else\n",
    "# While Loops\n",
    "# For Loops\n",
    "# ---------------\n",
    "#for i in \"12234456ffkdk\":\n",
    "    #print(i)\n",
    "for i in range(1,50):\n",
    "    print(i) \n",
    "    if i%5==0 and i%3==0:\n",
    "        print(f\"{i} is divisible by 3 and 5\")\n",
    "    elif i%5==0:\n",
    "        print(f\"{i} is divisible by 5\")\n",
    "    elif i%3==0:\n",
    "        print(f\"{i} is divisible by 3\") \n"
   ]
  },
  {
   "cell_type": "code",
   "execution_count": 6,
   "metadata": {},
   "outputs": [
    {
     "name": "stdout",
     "output_type": "stream",
     "text": [
      "0\n",
      "2\n",
      "4\n",
      "6\n",
      "8\n",
      "10\n"
     ]
    }
   ],
   "source": [
    "# ---------------\n",
    "# If...Else\n",
    "# While Loops\n",
    "# For Loops\n",
    "# ---------------\n",
    "i=0\n",
    "while i<=10:\n",
    "    print(i)\n",
    "    i+=2"
   ]
  },
  {
   "cell_type": "markdown",
   "metadata": {},
   "source": [
    "advanced \n",
    " -  Object-oriented programming\n",
    " -  Functions\n",
    "\t - Lambda\n",
    " - Classes/Objects\n",
    "\t - Inheritance\n",
    "\t - Iterators\n",
    "\t - Modules"
   ]
  },
  {
   "cell_type": "code",
   "execution_count": 10,
   "metadata": {},
   "outputs": [
    {
     "name": "stdout",
     "output_type": "stream",
     "text": [
      "452.15999999999997\n",
      "v: 10399.679999999998\n"
     ]
    }
   ],
   "source": [
    "def c(c):\n",
    "    PI=3.14\n",
    "    s=PI*c*c\n",
    "    print(s)\n",
    "    return s\n",
    "\n",
    "#......................\n",
    "g=\n",
    "g=c(12)\n",
    "f=23\n",
    "v=f*g\n",
    "print(\"v:\",v)"
   ]
  },
  {
   "cell_type": "code",
   "execution_count": 8,
   "metadata": {},
   "outputs": [
    {
     "data": {
      "text/plain": [
       "'Read Only (‘r’)\\nRead and Write (‘r+’)\\nWrite Only (‘w’)\\nWrite and Read (‘w+’)\\nAppend Only (‘a’)\\nAppend and Read (‘a+’)\\n'"
      ]
     },
     "execution_count": 8,
     "metadata": {},
     "output_type": "execute_result"
    }
   ],
   "source": [
    "file1 = open(\"myfile3.csv\",\"w\")\n",
    "L = [\"This is Delhi \\n\",\"This is Paris \\n\",\"This is London \\n\"]\n",
    "c = [\"aaaaaaaaaaaaaaaaaaaaaaaaaaaaaaa\"]\n",
    "file1.writelines(L)\n",
    "file1.writelines(c)\n",
    "file1.close()\n",
    "\n",
    "\"\"\"Read Only (‘r’)\n",
    "Read and Write (‘r+’)\n",
    "Write Only (‘w’)\n",
    "Write and Read (‘w+’)\n",
    "Append Only (‘a’)\n",
    "Append and Read (‘a+’)\n",
    "\"\"\""
   ]
  },
  {
   "cell_type": "code",
   "execution_count": 3,
   "metadata": {},
   "outputs": [
    {
     "name": "stdout",
     "output_type": "stream",
     "text": [
      "your DNA length:460\n",
      "True True False\n",
      "couut A:117,couut T:127,couut C:100,couut G:116,GC content :46.95652173913044\n"
     ]
    }
   ],
   "source": [
    "# ---------------\n",
    "#  python for Bioinformatics\n",
    "# ---------------\n",
    "#.....................data.............................\n",
    "dna=\"GAGTTCATCCAGATTCGTCATGCCATGGAAAGATCTTCCCGATCTGTACAGTGTGGACGGGACGAGATGCTCAACATGTTTCGTGCACTTGTCTTTATATGGCGTATGTAAATTAGCGTCTACAGCATTGGAATCTATGCGATGGGATCAGATCACAGGCGCCCCGTCAGTCTACATCGTATTACATGTCACGAAACATATGACGTTTTTACCGTAGACATCGAAGGCTCCAGATACGTGCCGTGTGATTGTGCGGGGATACATTTAGAAGTACAGTCGTACTATAAATCAGCCGAATAAAATATTATGTTGATGTCGCGTGACCAAAATAGCTTTAGGGGATCCGTTTCTTCCTACGTTCCGTAATAACAAGACCAGCCGGGATACGTGGTGTGCACGTGATTTAAGGCGCTTCCAGTAGGCCCGAGGTTGTTGCTAGGGTGCGGCACAATCCGCTACT\"\n",
    "#.....................len...............................\n",
    "dnalen=len(dna)\n",
    "print(f\"your DNA length:{dnalen}\")\n",
    "#....................some test..........................\n",
    "a='A' in dna\n",
    "b='AT' in dna\n",
    "c='a' in dna\n",
    "print(a ,b,c)\n",
    "#......................count............................\n",
    "A=dna.count(\"A\")\n",
    "C=dna.count(\"C\")\n",
    "G=dna.count('G')\n",
    "T=dna.count('T')\n",
    "GCconten=((G+C)/dnalen)*100\n",
    "print(f\"couut A:{A},couut T:{T},couut C:{C},couut G:{G},GC content :{GCconten}\")"
   ]
  },
  {
   "cell_type": "code",
   "execution_count": 4,
   "metadata": {},
   "outputs": [
    {
     "name": "stdout",
     "output_type": "stream",
     "text": [
      "ATCTAGAGGATATAC\n",
      "CATATAGGAGATCTA\n"
     ]
    }
   ],
   "source": [
    "DNA1=\"ATCTAGAGGATATAC\"\n",
    "reverse_sequence=DNA1[::-1]\n",
    "print(DNA1)\n",
    "print(reverse_sequence)"
   ]
  },
  {
   "cell_type": "code",
   "execution_count": 6,
   "metadata": {},
   "outputs": [
    {
     "name": "stdout",
     "output_type": "stream",
     "text": [
      "AGGATAGGATATATGATCGAGGATATAGGATATAGATGAAGGATATATGATCGGAGAGGCTCTAGAGGATATATGATCGATATATGA\n"
     ]
    }
   ],
   "source": [
    "exsons=['AGGATAGGATATATGATCGAGGATATA','GGATATAGATGAAGGATATATGATCGGAGAGG','CTCTAGAGGATATATGATCGATATATGA']\n",
    "cdm=''.join(exsons)\n",
    "print(cdm)"
   ]
  },
  {
   "cell_type": "code",
   "execution_count": 7,
   "metadata": {},
   "outputs": [],
   "source": [
    "from random import choice"
   ]
  },
  {
   "cell_type": "code",
   "execution_count": 9,
   "metadata": {},
   "outputs": [],
   "source": [
    "def generate_sequence(length=10):\n",
    "    bases=['A','C','G','T']\n",
    "    sequence=[choice(bases) for i in range(length)]\n",
    "    sequence=''.join(sequence)\n",
    "    return sequence"
   ]
  },
  {
   "cell_type": "code",
   "execution_count": 13,
   "metadata": {},
   "outputs": [
    {
     "name": "stdout",
     "output_type": "stream",
     "text": [
      "CTGACGGGCT\n"
     ]
    }
   ],
   "source": [
    "s=generate_sequence()\n",
    "print(s)"
   ]
  },
  {
   "cell_type": "code",
   "execution_count": 14,
   "metadata": {},
   "outputs": [
    {
     "name": "stdout",
     "output_type": "stream",
     "text": [
      "['ACTAA', 'TCCCA', 'GTACG', 'CTATG', 'CTTAC', 'CCTGG', 'TACTA', 'AATCT', 'GCCAG', 'TGGTA', 'TGGGT', 'ATAGA', 'ATGTG', 'TATAA', 'CTCCA', 'TTATA', 'ACACA', 'TGACG', 'GCCGA', 'CTAAG', 'CGTCA', 'TTGAA', 'CTGGC', 'TGGTA', 'TGATC', 'AAACA', 'CCAAT', 'AAGGG', 'TTATC', 'TTGAT', 'CCACA', 'AATAT', 'ATCAC', 'AGTAG', 'GCGAA', 'TTCGC', 'TATAT', 'CCCTG', 'GTTGT', 'CCGCA', 'TTAAA', 'CTACG', 'AGAGA', 'GGTTC', 'CAATA', 'TACCA', 'CCTAA', 'GCATC', 'CAATT', 'GGAAA', 'TCCCA', 'CCTGT', 'ACACT', 'TCTAT', 'GAGTG', 'TGCGT', 'GAAGT', 'TGAGT', 'GATAA', 'TCGAT', 'AAGTG', 'CATAG', 'CGGCT', 'CCTGT', 'CTAGA', 'TTATC', 'GGTCC', 'TAATA', 'CCGAC', 'GACGA', 'GGTAC', 'ACAAA', 'ACCTA', 'GTTTG', 'CGTTG', 'CGCTG', 'TCGAA', 'CACGC', 'TCTTT', 'GTTAT', 'CCGAG', 'CTGTA', 'CCGGA', 'TGGGG', 'TACGG', 'GTACC', 'GCGAA', 'TATCA', 'GGAGA', 'ATAGA', 'TCCAG', 'TGGGA', 'TGCAA', 'AGTGC', 'CCTAA', 'CAATC', 'AAAAC', 'GGGGA', 'CAGCG', 'GTGCT']\n"
     ]
    }
   ],
   "source": [
    "#RAPID marker\n",
    "length=5\n",
    "number_of_sequences=100\n",
    "sequences=[generate_sequence(length) for i in range(number_of_sequences)]\n",
    "print(sequences)"
   ]
  },
  {
   "cell_type": "code",
   "execution_count": null,
   "metadata": {},
   "outputs": [],
   "source": [
    "# user defined lengths\n",
    "lengths=[10,5,6,5]\n",
    "sequences=[generate_sequence(length) for length in lengths]"
   ]
  },
  {
   "cell_type": "code",
   "execution_count": null,
   "metadata": {},
   "outputs": [],
   "source": [
    "sequence=\"AUGGGUAGCCCUAAUACUAGUCCUAAAAAG\"\n",
    "length=len(sequence)\n",
    "codons=[]\n",
    "for i in range(0,30,3):\n",
    "    codon=sequence[i:i+3]\n",
    "    codons.append(codon)\n",
    "number_of_codons=len(codons)\n",
    "print('number of codons is %d'%number_of_codons) #%d for add number after str just number \n",
    "#...............................\n",
    "#number of 'CCU's\n",
    "#   codons.count('CCU')\n",
    "#number of start codons\n",
    "#   codons.count('AUG')\n",
    "#number of stop codons\n",
    "#   codons.count('UAG') + codons.count('UAA') + codons.count('UGA')\n",
    "#...............................\n",
    "#replace all stop codons with '*'\n",
    "sequence2=\"AUGUAGAGCCCUAAUACUAGUCCUAAAUGA\"\n",
    "\n",
    "codons=[]\n",
    "for i in range(0,30,3):\n",
    "    codon=sequence2[i:i+3]\n",
    "    \n",
    "    if codon=='UAG' or codon=='UAA' or codon=='UGA':\n",
    "        codon='*'\n",
    "        \n",
    "    codons.append(codon)\n",
    "    "
   ]
  },
  {
   "cell_type": "code",
   "execution_count": 21,
   "metadata": {},
   "outputs": [
    {
     "name": "stdout",
     "output_type": "stream",
     "text": [
      "number of codons is  10\n"
     ]
    }
   ],
   "source": []
  }
 ],
 "metadata": {
  "kernelspec": {
   "display_name": "Python 3",
   "language": "python",
   "name": "python3"
  },
  "language_info": {
   "codemirror_mode": {
    "name": "ipython",
    "version": 3
   },
   "file_extension": ".py",
   "mimetype": "text/x-python",
   "name": "python",
   "nbconvert_exporter": "python",
   "pygments_lexer": "ipython3",
   "version": "3.11.7"
  }
 },
 "nbformat": 4,
 "nbformat_minor": 2
}
